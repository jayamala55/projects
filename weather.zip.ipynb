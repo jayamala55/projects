{
 "cells": [
  {
   "cell_type": "code",
   "execution_count": 22,
   "id": "13764970-0bdf-428a-8a58-535cddea546b",
   "metadata": {},
   "outputs": [],
   "source": [
    "#importing the necessary libraries\n",
    "from sklearn.preprocessing import StandardScaler\n",
    "from sklearn.cluster import KMeans\n",
    "import pandas as pd\n",
    "import numpy as np\n",
    "from itertools import cycle, islice\n",
    "import matplotlib.pyplot as plt\n",
    "from pandas.plotting import parallel_coordinates\n",
    "from sklearn.cluster import KMeans\n"
   ]
  },
  {
   "cell_type": "code",
   "execution_count": 2,
   "id": "532449d8-9997-4113-ad7f-39d311b3bc8e",
   "metadata": {},
   "outputs": [
    {
     "name": "stdout",
     "output_type": "stream",
     "text": [
      "Data shape: (1587257, 13)\n",
      "Sample Data:\n",
      "    rowID     hpwren_timestamp  air_pressure  air_temp  avg_wind_direction  \\\n",
      "0      0  2011-09-10 00:00:49         912.3     64.76                97.0   \n",
      "1      1  2011-09-10 00:01:49         912.3     63.86               161.0   \n",
      "2      2  2011-09-10 00:02:49         912.3     64.22                77.0   \n",
      "3      3  2011-09-10 00:03:49         912.3     64.40                89.0   \n",
      "4      4  2011-09-10 00:04:49         912.3     64.40               185.0   \n",
      "\n",
      "   avg_wind_speed  max_wind_direction  max_wind_speed  min_wind_direction  \\\n",
      "0             1.2               106.0             1.6                85.0   \n",
      "1             0.8               215.0             1.5                43.0   \n",
      "2             0.7               143.0             1.2               324.0   \n",
      "3             1.2               112.0             1.6                12.0   \n",
      "4             0.4               260.0             1.0               100.0   \n",
      "\n",
      "   min_wind_speed  rain_accumulation  rain_duration  relative_humidity  \n",
      "0             1.0                NaN            NaN               60.5  \n",
      "1             0.2                0.0            0.0               39.9  \n",
      "2             0.3                0.0            0.0               43.0  \n",
      "3             0.7                0.0            0.0               49.5  \n",
      "4             0.1                0.0            0.0               58.8  \n"
     ]
    }
   ],
   "source": [
    "#creating a pandas DataFrame from a CSV file\n",
    "data = pd.read_csv(\"weather.zip\",compression = 'zip')\n",
    "print(\"Data shape:\",data.shape)\n",
    "print(\"Sample Data:\\n\",data.head())"
   ]
  },
  {
   "cell_type": "code",
   "execution_count": 3,
   "id": "fa7830a7-4479-4cad-b3ee-2a26e05a69a7",
   "metadata": {},
   "outputs": [
    {
     "name": "stdout",
     "output_type": "stream",
     "text": [
      "Sample Data Shape: (158726, 13)\n"
     ]
    }
   ],
   "source": [
    "#Data Sampling\n",
    "#lots of rows,so let us sample down by taking every 10th row\n",
    "sampled_df = data[(data['rowID'] % 10)==0]\n",
    "print(\"Sample Data Shape:\",sampled_df.shape)"
   ]
  },
  {
   "cell_type": "code",
   "execution_count": 8,
   "id": "9736afd5-c64b-4a7a-a394-3336619c34d9",
   "metadata": {},
   "outputs": [
    {
     "name": "stdout",
     "output_type": "stream",
     "text": [
      "Rows where rain_accumulation is 0:  (157812, 13)\n",
      "Rows where rain_duration is 0:  (157237, 13)\n"
     ]
    }
   ],
   "source": [
    "#statistics\n",
    "sampled_df.describe().transpose()\n",
    "print(\"Rows where rain_accumulation is 0: \", sampled_df[sampled_df['rain_accumulation'] == 0].shape)\n",
    "print(\"Rows where rain_duration is 0: \", sampled_df[sampled_df['rain_duration'] == 0].shape)\n",
    "\n",
    "                         "
   ]
  },
  {
   "cell_type": "code",
   "execution_count": 10,
   "id": "ccd1d82d-857d-4c78-b652-6295db19dc1e",
   "metadata": {},
   "outputs": [
    {
     "name": "stdout",
     "output_type": "stream",
     "text": [
      "How many rows did we drop ?  46\n",
      "Columns in Sample Data:  Index(['rowID', 'hpwren_timestamp', 'air_pressure', 'air_temp',\n",
      "       'avg_wind_direction', 'avg_wind_speed', 'max_wind_direction',\n",
      "       'max_wind_speed', 'min_wind_direction', 'min_wind_speed',\n",
      "       'relative_humidity'],\n",
      "      dtype='object')\n"
     ]
    }
   ],
   "source": [
    "# Drop all the Rows with Empty rain_duration and rain_accumulation\n",
    "del sampled_df['rain_accumulation']\n",
    "del sampled_df['rain_duration']\n",
    "rows_before = sampled_df.shape[0]\n",
    "sampled_df = sampled_df.dropna()\n",
    "rows_after = sampled_df.shape[0]\n",
    "# How many rows did we drop?\n",
    "print(\"How many rows did we drop ? \", rows_before - rows_after)\n",
    "print(\"Columns in Sample Data: \", sampled_df.columns)\n",
    "\n"
   ]
  },
  {
   "cell_type": "code",
   "execution_count": 12,
   "id": "d63c32b7-939c-4916-bf97-82b6b2d0e118",
   "metadata": {},
   "outputs": [
    {
     "data": {
      "text/html": [
       "<div>\n",
       "<style scoped>\n",
       "    .dataframe tbody tr th:only-of-type {\n",
       "        vertical-align: middle;\n",
       "    }\n",
       "\n",
       "    .dataframe tbody tr th {\n",
       "        vertical-align: top;\n",
       "    }\n",
       "\n",
       "    .dataframe thead th {\n",
       "        text-align: right;\n",
       "    }\n",
       "</style>\n",
       "<table border=\"1\" class=\"dataframe\">\n",
       "  <thead>\n",
       "    <tr style=\"text-align: right;\">\n",
       "      <th></th>\n",
       "      <th>air_pressure</th>\n",
       "      <th>air_temp</th>\n",
       "      <th>avg_wind_direction</th>\n",
       "      <th>avg_wind_speed</th>\n",
       "      <th>max_wind_direction</th>\n",
       "      <th>max_wind_speed</th>\n",
       "      <th>relative_humidity</th>\n",
       "    </tr>\n",
       "  </thead>\n",
       "  <tbody>\n",
       "    <tr>\n",
       "      <th>0</th>\n",
       "      <td>912.3</td>\n",
       "      <td>64.76</td>\n",
       "      <td>97.0</td>\n",
       "      <td>1.2</td>\n",
       "      <td>106.0</td>\n",
       "      <td>1.6</td>\n",
       "      <td>60.5</td>\n",
       "    </tr>\n",
       "    <tr>\n",
       "      <th>10</th>\n",
       "      <td>912.3</td>\n",
       "      <td>62.24</td>\n",
       "      <td>144.0</td>\n",
       "      <td>1.2</td>\n",
       "      <td>167.0</td>\n",
       "      <td>1.8</td>\n",
       "      <td>38.5</td>\n",
       "    </tr>\n",
       "    <tr>\n",
       "      <th>20</th>\n",
       "      <td>912.2</td>\n",
       "      <td>63.32</td>\n",
       "      <td>100.0</td>\n",
       "      <td>2.0</td>\n",
       "      <td>122.0</td>\n",
       "      <td>2.5</td>\n",
       "      <td>58.3</td>\n",
       "    </tr>\n",
       "    <tr>\n",
       "      <th>30</th>\n",
       "      <td>912.2</td>\n",
       "      <td>62.60</td>\n",
       "      <td>91.0</td>\n",
       "      <td>2.0</td>\n",
       "      <td>103.0</td>\n",
       "      <td>2.4</td>\n",
       "      <td>57.9</td>\n",
       "    </tr>\n",
       "    <tr>\n",
       "      <th>40</th>\n",
       "      <td>912.2</td>\n",
       "      <td>64.04</td>\n",
       "      <td>81.0</td>\n",
       "      <td>2.6</td>\n",
       "      <td>88.0</td>\n",
       "      <td>2.9</td>\n",
       "      <td>57.4</td>\n",
       "    </tr>\n",
       "    <tr>\n",
       "      <th>...</th>\n",
       "      <td>...</td>\n",
       "      <td>...</td>\n",
       "      <td>...</td>\n",
       "      <td>...</td>\n",
       "      <td>...</td>\n",
       "      <td>...</td>\n",
       "      <td>...</td>\n",
       "    </tr>\n",
       "    <tr>\n",
       "      <th>1587210</th>\n",
       "      <td>915.9</td>\n",
       "      <td>75.56</td>\n",
       "      <td>330.0</td>\n",
       "      <td>1.0</td>\n",
       "      <td>341.0</td>\n",
       "      <td>1.3</td>\n",
       "      <td>47.8</td>\n",
       "    </tr>\n",
       "    <tr>\n",
       "      <th>1587220</th>\n",
       "      <td>915.9</td>\n",
       "      <td>75.56</td>\n",
       "      <td>330.0</td>\n",
       "      <td>1.1</td>\n",
       "      <td>341.0</td>\n",
       "      <td>1.4</td>\n",
       "      <td>48.0</td>\n",
       "    </tr>\n",
       "    <tr>\n",
       "      <th>1587230</th>\n",
       "      <td>915.9</td>\n",
       "      <td>75.56</td>\n",
       "      <td>344.0</td>\n",
       "      <td>1.4</td>\n",
       "      <td>352.0</td>\n",
       "      <td>1.7</td>\n",
       "      <td>48.0</td>\n",
       "    </tr>\n",
       "    <tr>\n",
       "      <th>1587240</th>\n",
       "      <td>915.9</td>\n",
       "      <td>75.20</td>\n",
       "      <td>359.0</td>\n",
       "      <td>1.3</td>\n",
       "      <td>9.0</td>\n",
       "      <td>1.6</td>\n",
       "      <td>46.3</td>\n",
       "    </tr>\n",
       "    <tr>\n",
       "      <th>1587250</th>\n",
       "      <td>915.9</td>\n",
       "      <td>74.84</td>\n",
       "      <td>6.0</td>\n",
       "      <td>1.5</td>\n",
       "      <td>20.0</td>\n",
       "      <td>1.9</td>\n",
       "      <td>46.1</td>\n",
       "    </tr>\n",
       "  </tbody>\n",
       "</table>\n",
       "<p>158680 rows × 7 columns</p>\n",
       "</div>"
      ],
      "text/plain": [
       "         air_pressure  air_temp  avg_wind_direction  avg_wind_speed  \\\n",
       "0               912.3     64.76                97.0             1.2   \n",
       "10              912.3     62.24               144.0             1.2   \n",
       "20              912.2     63.32               100.0             2.0   \n",
       "30              912.2     62.60                91.0             2.0   \n",
       "40              912.2     64.04                81.0             2.6   \n",
       "...               ...       ...                 ...             ...   \n",
       "1587210         915.9     75.56               330.0             1.0   \n",
       "1587220         915.9     75.56               330.0             1.1   \n",
       "1587230         915.9     75.56               344.0             1.4   \n",
       "1587240         915.9     75.20               359.0             1.3   \n",
       "1587250         915.9     74.84                 6.0             1.5   \n",
       "\n",
       "         max_wind_direction  max_wind_speed  relative_humidity  \n",
       "0                     106.0             1.6               60.5  \n",
       "10                    167.0             1.8               38.5  \n",
       "20                    122.0             2.5               58.3  \n",
       "30                    103.0             2.4               57.9  \n",
       "40                     88.0             2.9               57.4  \n",
       "...                     ...             ...                ...  \n",
       "1587210               341.0             1.3               47.8  \n",
       "1587220               341.0             1.4               48.0  \n",
       "1587230               352.0             1.7               48.0  \n",
       "1587240                 9.0             1.6               46.3  \n",
       "1587250                20.0             1.9               46.1  \n",
       "\n",
       "[158680 rows x 7 columns]"
      ]
     },
     "execution_count": 12,
     "metadata": {},
     "output_type": "execute_result"
    }
   ],
   "source": [
    "# Select Features of Interest for Clustering\n",
    "features = ['air_pressure', 'air_temp', 'avg_wind_direction', \n",
    "            'avg_wind_speed', 'max_wind_direction', 'max_wind_speed', 'relative_humidity']\n",
    "select_df = sampled_df[features]\n",
    "select_df.columns\n",
    "select_df\n"
   ]
  },
  {
   "cell_type": "code",
   "execution_count": 23,
   "id": "81fa06c1-febd-4791-8043-ad7fb2d846eb",
   "metadata": {},
   "outputs": [
    {
     "data": {
      "text/plain": [
       "array([[-1.48456281,  0.24544455, -0.68385323, ..., -0.62153592,\n",
       "        -0.74440309,  0.49233835],\n",
       "       [-1.48456281,  0.03247142, -0.19055941, ...,  0.03826701,\n",
       "        -0.66171726, -0.34710804],\n",
       "       [-1.51733167,  0.12374562, -0.65236639, ..., -0.44847286,\n",
       "        -0.37231683,  0.40839371],\n",
       "       ...,\n",
       "       [-0.30488381,  1.15818654,  1.90856325, ...,  2.0393087 ,\n",
       "        -0.70306017,  0.01538018],\n",
       "       [-0.30488381,  1.12776181,  2.06599745, ..., -1.67073075,\n",
       "        -0.74440309, -0.04948614],\n",
       "       [-0.30488381,  1.09733708, -1.63895404, ..., -1.55174989,\n",
       "        -0.62037434, -0.05711747]])"
      ]
     },
     "execution_count": 23,
     "metadata": {},
     "output_type": "execute_result"
    }
   ],
   "source": [
    "#Scale the features using StandardScaler\n",
    "X = StandardScaler().fit_transform(select_df)\n",
    "X"
   ]
  },
  {
   "cell_type": "code",
   "execution_count": 25,
   "id": "aad308dc-3050-4609-bb8a-62af7c7bc32f",
   "metadata": {},
   "outputs": [
    {
     "name": "stdout",
     "output_type": "stream",
     "text": [
      "model\n",
      " KMeans(n_clusters=12, n_init=10)\n"
     ]
    }
   ],
   "source": [
    "kmeans = KMeans(n_clusters=12, n_init=10)\n",
    "model = kmeans.fit(X)\n",
    "print(\"model\\n\",model)"
   ]
  },
  {
   "cell_type": "code",
   "execution_count": 26,
   "id": "2800b13c-2bfd-4975-80ed-1f636e5fb811",
   "metadata": {},
   "outputs": [
    {
     "name": "stdout",
     "output_type": "stream",
     "text": [
      "centers: [[-0.21198179  0.63089014  0.40824895  0.73457983  0.5163618   0.67265306\n",
      "  -0.15016136]\n",
      " [-0.69651436  0.53849019  0.17622948 -0.58552343  0.3458233  -0.59896715\n",
      "  -0.11058124]\n",
      " [-1.17345666 -0.88023322  0.44553323  1.96804228  0.53775169  1.92914069\n",
      "   0.91917296]\n",
      " [ 1.36702757 -0.08106871 -1.2068607  -0.04903381 -1.07565544 -0.02864342\n",
      "  -0.9781239 ]\n",
      " [ 1.19056013 -0.25537655 -1.1550476   2.12488334 -1.05346577  2.2420235\n",
      "  -1.13421099]\n",
      " [ 0.13015971  0.84412103  1.4117518  -0.63842272  1.67579139 -0.58918531\n",
      "  -0.7147082 ]\n",
      " [-0.84571889 -1.1965888   0.37492331  0.33088658  0.47284472  0.31908048\n",
      "   1.36501096]\n",
      " [ 0.0624407  -0.78915467 -1.19658436 -0.57054883 -1.0424172  -0.58498802\n",
      "   0.87855181]\n",
      " [ 0.2352152   0.32104631  1.88795452 -0.65170722 -1.5518055  -0.57656823\n",
      "  -0.28415562]\n",
      " [ 0.27438792 -0.9936387   0.66686743 -0.54467161  0.85852972 -0.52675281\n",
      "   1.15160835]\n",
      " [ 0.72516804  0.44535724  0.28611444 -0.5348278   0.47359575 -0.54111152\n",
      "  -0.77354521]\n",
      " [-0.16352349  0.86298296 -1.31109021 -0.58972543 -1.16685704 -0.60506359\n",
      "  -0.64117983]]\n"
     ]
    }
   ],
   "source": [
    "#What are the centers of 12 clusters we formed\n",
    "centers = model.cluster_centers_\n",
    "print(\"centers:\",centers)"
   ]
  },
  {
   "cell_type": "code",
   "execution_count": 35,
   "id": "b258b846-96f8-4f59-bf4a-b1258adf87ca",
   "metadata": {},
   "outputs": [],
   "source": [
    "def pd_centers(featuresUsed, centers):\n",
    "    colNames = list(featuresUsed)\n",
    "    colNames.append('prediction')\n",
    "    # Zip with a column called 'prediction' (index)\n",
    "    Z = [np.append(A, index) for index, A in enumerate(centers)]\n",
    "    # Convert to pandas data frame for plotting\n",
    "    P = pd.DataFrame(Z, columns=colNames)\n",
    "    P['prediction'] = P['prediction'].astype(int)\n",
    "    return P\n",
    "\n"
   ]
  },
  {
   "cell_type": "code",
   "execution_count": 36,
   "id": "427709c2-8ec5-4aed-8eae-111aff258c72",
   "metadata": {},
   "outputs": [],
   "source": [
    "# Function that creates Parallel Plots\n",
    "def parallel_plot(data):\n",
    "    my_colors = list(islice(cycle(['b', 'r', 'g', 'y', 'k']), None, len(data)))\n",
    "    plt.figure(figsize=(15, 8)).gca().axes.set_ylim([-3, +3])\n",
    "    parallel_coordinates(data, 'prediction', color=my_colors, marker='o')\n",
    "    plt.show()\n",
    "\n",
    "\n"
   ]
  },
  {
   "cell_type": "code",
   "execution_count": 37,
   "id": "7c232e8d-5b81-4351-8276-87101344f6da",
   "metadata": {},
   "outputs": [
    {
     "name": "stdout",
     "output_type": "stream",
     "text": [
      "pd_centers:     air_pressure  air_temp  avg_wind_direction  avg_wind_speed  \\\n",
      "0             1         2                   3               4   \n",
      "1             8         9                  10              11   \n",
      "\n",
      "   max_wind_direction  max_wind_speed  relative_humidity  prediction  \n",
      "0                   5               6                  7           0  \n",
      "1                  12              13                 14           1  \n"
     ]
    },
    {
     "data": {
      "image/png": "[encoded data removed]",
      "text/plain": [
       "<Figure size 1500x800 with 1 Axes>"
      ]
     },
     "metadata": {},
     "output_type": "display_data"
    }
   ],
   "source": [
    "# Assuming 'features' and 'centers' are defined earlier in your script\n",
    "features = ['air_pressure', 'air_temp', 'avg_wind_direction', 'avg_wind_speed', 'max_wind_direction', 'max_wind_speed', 'relative_humidity']\n",
    "centers = [[1, 2, 3, 4, 5, 6, 7], [8, 9, 10, 11, 12, 13, 14]]  # Example centers data\n",
    "\n",
    "# Create DataFrame with cluster centers\n",
    "P = pd_centers(features, centers)\n",
    "print(\"pd_centers: \", P)\n",
    "\n",
    "# Create parallel coordinate plots\n",
    "parallel_plot(P)"
   ]
  },
  {
   "cell_type": "code",
   "execution_count": 39,
   "id": "93c9db00-a437-4fe0-91d1-09a3d9d2705f",
   "metadata": {},
   "outputs": [
    {
     "data": {
      "image/png": "[encoded data removed]",
      "text/plain": [
       "<Figure size 1500x800 with 1 Axes>"
      ]
     },
     "metadata": {},
     "output_type": "display_data"
    }
   ],
   "source": [
    "parallel_plot(P[P[\"air_temp\"] > 0.5])"
   ]
  },
  {
   "cell_type": "code",
   "execution_count": 43,
   "id": "078dc9a6-f2e6-4ed9-aba0-8736559267b5",
   "metadata": {},
   "outputs": [
    {
     "ename": "ValueError",
     "evalue": "Invalid color argument: []",
     "output_type": "error",
     "traceback": [
      "\u001b[1;31m---------------------------------------------------------------------------\u001b[0m",
      "\u001b[1;31mValueError\u001b[0m                                Traceback (most recent call last)",
      "Cell \u001b[1;32mIn[43], line 3\u001b[0m\n\u001b[0;32m      1\u001b[0m \u001b[38;5;66;03m# Create parallel coordinate plot for subset of data points\u001b[39;00m\n\u001b[0;32m      2\u001b[0m cool_days_subset \u001b[38;5;241m=\u001b[39m P[(P[\u001b[38;5;124m'\u001b[39m\u001b[38;5;124mrelative_humidity\u001b[39m\u001b[38;5;124m'\u001b[39m] \u001b[38;5;241m>\u001b[39m \u001b[38;5;241m0.5\u001b[39m) \u001b[38;5;241m&\u001b[39m (P[\u001b[38;5;124m'\u001b[39m\u001b[38;5;124mair_temp\u001b[39m\u001b[38;5;124m'\u001b[39m] \u001b[38;5;241m<\u001b[39m \u001b[38;5;241m0.5\u001b[39m)]\n\u001b[1;32m----> 3\u001b[0m parallel_plot(cool_days_subset)\n",
      "Cell \u001b[1;32mIn[36], line 5\u001b[0m, in \u001b[0;36mparallel_plot\u001b[1;34m(data)\u001b[0m\n\u001b[0;32m      3\u001b[0m my_colors \u001b[38;5;241m=\u001b[39m \u001b[38;5;28mlist\u001b[39m(islice(cycle([\u001b[38;5;124m'\u001b[39m\u001b[38;5;124mb\u001b[39m\u001b[38;5;124m'\u001b[39m, \u001b[38;5;124m'\u001b[39m\u001b[38;5;124mr\u001b[39m\u001b[38;5;124m'\u001b[39m, \u001b[38;5;124m'\u001b[39m\u001b[38;5;124mg\u001b[39m\u001b[38;5;124m'\u001b[39m, \u001b[38;5;124m'\u001b[39m\u001b[38;5;124my\u001b[39m\u001b[38;5;124m'\u001b[39m, \u001b[38;5;124m'\u001b[39m\u001b[38;5;124mk\u001b[39m\u001b[38;5;124m'\u001b[39m]), \u001b[38;5;28;01mNone\u001b[39;00m, \u001b[38;5;28mlen\u001b[39m(data)))\n\u001b[0;32m      4\u001b[0m plt\u001b[38;5;241m.\u001b[39mfigure(figsize\u001b[38;5;241m=\u001b[39m(\u001b[38;5;241m15\u001b[39m, \u001b[38;5;241m8\u001b[39m))\u001b[38;5;241m.\u001b[39mgca()\u001b[38;5;241m.\u001b[39maxes\u001b[38;5;241m.\u001b[39mset_ylim([\u001b[38;5;241m-\u001b[39m\u001b[38;5;241m3\u001b[39m, \u001b[38;5;241m+\u001b[39m\u001b[38;5;241m3\u001b[39m])\n\u001b[1;32m----> 5\u001b[0m parallel_coordinates(data, \u001b[38;5;124m'\u001b[39m\u001b[38;5;124mprediction\u001b[39m\u001b[38;5;124m'\u001b[39m, color\u001b[38;5;241m=\u001b[39mmy_colors, marker\u001b[38;5;241m=\u001b[39m\u001b[38;5;124m'\u001b[39m\u001b[38;5;124mo\u001b[39m\u001b[38;5;124m'\u001b[39m)\n\u001b[0;32m      6\u001b[0m plt\u001b[38;5;241m.\u001b[39mshow()\n",
      "File \u001b[1;32m~\\.anaconda\\555\\Lib\\site-packages\\pandas\\plotting\\_misc.py:513\u001b[0m, in \u001b[0;36mparallel_coordinates\u001b[1;34m(frame, class_column, cols, ax, color, use_columns, xticks, colormap, axvlines, axvlines_kwds, sort_labels, **kwargs)\u001b[0m\n\u001b[0;32m    465\u001b[0m \u001b[38;5;250m\u001b[39m\u001b[38;5;124;03m\"\"\"\u001b[39;00m\n\u001b[0;32m    466\u001b[0m \u001b[38;5;124;03mParallel coordinates plotting.\u001b[39;00m\n\u001b[0;32m    467\u001b[0m \n\u001b[1;32m   (...)\u001b[0m\n\u001b[0;32m    510\u001b[0m \u001b[38;5;124;03m    ... )  # doctest: +SKIP\u001b[39;00m\n\u001b[0;32m    511\u001b[0m \u001b[38;5;124;03m\"\"\"\u001b[39;00m\n\u001b[0;32m    512\u001b[0m plot_backend \u001b[38;5;241m=\u001b[39m _get_plot_backend(\u001b[38;5;124m\"\u001b[39m\u001b[38;5;124mmatplotlib\u001b[39m\u001b[38;5;124m\"\u001b[39m)\n\u001b[1;32m--> 513\u001b[0m \u001b[38;5;28;01mreturn\u001b[39;00m plot_backend\u001b[38;5;241m.\u001b[39mparallel_coordinates(\n\u001b[0;32m    514\u001b[0m     frame\u001b[38;5;241m=\u001b[39mframe,\n\u001b[0;32m    515\u001b[0m     class_column\u001b[38;5;241m=\u001b[39mclass_column,\n\u001b[0;32m    516\u001b[0m     cols\u001b[38;5;241m=\u001b[39mcols,\n\u001b[0;32m    517\u001b[0m     ax\u001b[38;5;241m=\u001b[39max,\n\u001b[0;32m    518\u001b[0m     color\u001b[38;5;241m=\u001b[39mcolor,\n\u001b[0;32m    519\u001b[0m     use_columns\u001b[38;5;241m=\u001b[39muse_columns,\n\u001b[0;32m    520\u001b[0m     xticks\u001b[38;5;241m=\u001b[39mxticks,\n\u001b[0;32m    521\u001b[0m     colormap\u001b[38;5;241m=\u001b[39mcolormap,\n\u001b[0;32m    522\u001b[0m     axvlines\u001b[38;5;241m=\u001b[39maxvlines,\n\u001b[0;32m    523\u001b[0m     axvlines_kwds\u001b[38;5;241m=\u001b[39maxvlines_kwds,\n\u001b[0;32m    524\u001b[0m     sort_labels\u001b[38;5;241m=\u001b[39msort_labels,\n\u001b[0;32m    525\u001b[0m     \u001b[38;5;241m*\u001b[39m\u001b[38;5;241m*\u001b[39mkwargs,\n\u001b[0;32m    526\u001b[0m )\n",
      "File \u001b[1;32m~\\.anaconda\\555\\Lib\\site-packages\\pandas\\plotting\\_matplotlib\\misc.py:396\u001b[0m, in \u001b[0;36mparallel_coordinates\u001b[1;34m(frame, class_column, cols, ax, color, use_columns, xticks, colormap, axvlines, axvlines_kwds, sort_labels, **kwds)\u001b[0m\n\u001b[0;32m    393\u001b[0m \u001b[38;5;28;01mif\u001b[39;00m ax \u001b[38;5;129;01mis\u001b[39;00m \u001b[38;5;28;01mNone\u001b[39;00m:\n\u001b[0;32m    394\u001b[0m     ax \u001b[38;5;241m=\u001b[39m plt\u001b[38;5;241m.\u001b[39mgca()\n\u001b[1;32m--> 396\u001b[0m color_values \u001b[38;5;241m=\u001b[39m get_standard_colors(\n\u001b[0;32m    397\u001b[0m     num_colors\u001b[38;5;241m=\u001b[39m\u001b[38;5;28mlen\u001b[39m(classes), colormap\u001b[38;5;241m=\u001b[39mcolormap, color_type\u001b[38;5;241m=\u001b[39m\u001b[38;5;124m\"\u001b[39m\u001b[38;5;124mrandom\u001b[39m\u001b[38;5;124m\"\u001b[39m, color\u001b[38;5;241m=\u001b[39mcolor\n\u001b[0;32m    398\u001b[0m )\n\u001b[0;32m    400\u001b[0m \u001b[38;5;28;01mif\u001b[39;00m sort_labels:\n\u001b[0;32m    401\u001b[0m     classes \u001b[38;5;241m=\u001b[39m \u001b[38;5;28msorted\u001b[39m(classes)\n",
      "File \u001b[1;32m~\\.anaconda\\555\\Lib\\site-packages\\pandas\\plotting\\_matplotlib\\style.py:70\u001b[0m, in \u001b[0;36mget_standard_colors\u001b[1;34m(num_colors, colormap, color_type, color)\u001b[0m\n\u001b[0;32m     67\u001b[0m \u001b[38;5;28;01mif\u001b[39;00m \u001b[38;5;28misinstance\u001b[39m(color, \u001b[38;5;28mdict\u001b[39m):\n\u001b[0;32m     68\u001b[0m     \u001b[38;5;28;01mreturn\u001b[39;00m color\n\u001b[1;32m---> 70\u001b[0m colors \u001b[38;5;241m=\u001b[39m _derive_colors(\n\u001b[0;32m     71\u001b[0m     color\u001b[38;5;241m=\u001b[39mcolor,\n\u001b[0;32m     72\u001b[0m     colormap\u001b[38;5;241m=\u001b[39mcolormap,\n\u001b[0;32m     73\u001b[0m     color_type\u001b[38;5;241m=\u001b[39mcolor_type,\n\u001b[0;32m     74\u001b[0m     num_colors\u001b[38;5;241m=\u001b[39mnum_colors,\n\u001b[0;32m     75\u001b[0m )\n\u001b[0;32m     77\u001b[0m \u001b[38;5;28;01mreturn\u001b[39;00m \u001b[38;5;28mlist\u001b[39m(_cycle_colors(colors, num_colors\u001b[38;5;241m=\u001b[39mnum_colors))\n",
      "File \u001b[1;32m~\\.anaconda\\555\\Lib\\site-packages\\pandas\\plotting\\_matplotlib\\style.py:127\u001b[0m, in \u001b[0;36m_derive_colors\u001b[1;34m(color, colormap, color_type, num_colors)\u001b[0m\n\u001b[0;32m    122\u001b[0m     \u001b[38;5;28;01mif\u001b[39;00m colormap \u001b[38;5;129;01mis\u001b[39;00m \u001b[38;5;129;01mnot\u001b[39;00m \u001b[38;5;28;01mNone\u001b[39;00m:\n\u001b[0;32m    123\u001b[0m         warnings\u001b[38;5;241m.\u001b[39mwarn(\n\u001b[0;32m    124\u001b[0m             \u001b[38;5;124m\"\u001b[39m\u001b[38;5;124m'\u001b[39m\u001b[38;5;124mcolor\u001b[39m\u001b[38;5;124m'\u001b[39m\u001b[38;5;124m and \u001b[39m\u001b[38;5;124m'\u001b[39m\u001b[38;5;124mcolormap\u001b[39m\u001b[38;5;124m'\u001b[39m\u001b[38;5;124m cannot be used simultaneously. Using \u001b[39m\u001b[38;5;124m'\u001b[39m\u001b[38;5;124mcolor\u001b[39m\u001b[38;5;124m'\u001b[39m\u001b[38;5;124m\"\u001b[39m,\n\u001b[0;32m    125\u001b[0m             stacklevel\u001b[38;5;241m=\u001b[39mfind_stack_level(),\n\u001b[0;32m    126\u001b[0m         )\n\u001b[1;32m--> 127\u001b[0m     \u001b[38;5;28;01mreturn\u001b[39;00m _get_colors_from_color(color)\n\u001b[0;32m    128\u001b[0m \u001b[38;5;28;01melse\u001b[39;00m:\n\u001b[0;32m    129\u001b[0m     \u001b[38;5;28;01mreturn\u001b[39;00m _get_colors_from_color_type(color_type, num_colors\u001b[38;5;241m=\u001b[39mnum_colors)\n",
      "File \u001b[1;32m~\\.anaconda\\555\\Lib\\site-packages\\pandas\\plotting\\_matplotlib\\style.py:166\u001b[0m, in \u001b[0;36m_get_colors_from_color\u001b[1;34m(color)\u001b[0m\n\u001b[0;32m    164\u001b[0m \u001b[38;5;250m\u001b[39m\u001b[38;5;124;03m\"\"\"Get colors from user input color.\"\"\"\u001b[39;00m\n\u001b[0;32m    165\u001b[0m \u001b[38;5;28;01mif\u001b[39;00m \u001b[38;5;28mlen\u001b[39m(color) \u001b[38;5;241m==\u001b[39m \u001b[38;5;241m0\u001b[39m:\n\u001b[1;32m--> 166\u001b[0m     \u001b[38;5;28;01mraise\u001b[39;00m \u001b[38;5;167;01mValueError\u001b[39;00m(\u001b[38;5;124mf\u001b[39m\u001b[38;5;124m\"\u001b[39m\u001b[38;5;124mInvalid color argument: \u001b[39m\u001b[38;5;132;01m{\u001b[39;00mcolor\u001b[38;5;132;01m}\u001b[39;00m\u001b[38;5;124m\"\u001b[39m)\n\u001b[0;32m    168\u001b[0m \u001b[38;5;28;01mif\u001b[39;00m _is_single_color(color):\n\u001b[0;32m    169\u001b[0m     color \u001b[38;5;241m=\u001b[39m cast(Color, color)\n",
      "\u001b[1;31mValueError\u001b[0m: Invalid color argument: []"
     ]
    },
    {
     "data": {
      "image/png": "[encoded data removed]",
      "text/plain": [
       "<Figure size 1500x800 with 1 Axes>"
      ]
     },
     "metadata": {},
     "output_type": "display_data"
    }
   ],
   "source": [
    "# Create parallel coordinate plot for subset of data points\n",
    "cool_days_subset = P[(P['relative_humidity'] > 0.5) & (P['air_temp'] < 0.5)]\n",
    "parallel_plot(cool_days_subset)\n"
   ]
  },
  {
   "cell_type": "code",
   "execution_count": 44,
   "id": "cec9bf18-cea4-4dfd-941b-8f4d46e044b1",
   "metadata": {},
   "outputs": [
    {
     "name": "stdout",
     "output_type": "stream",
     "text": [
      "Empty DataFrame\n",
      "Columns: [air_pressure, air_temp, avg_wind_direction, avg_wind_speed, max_wind_direction, max_wind_speed, relative_humidity, prediction]\n",
      "Index: []\n",
      "Shape of cool_days_subset: (0, 8)\n"
     ]
    }
   ],
   "source": [
    "print(cool_days_subset)\n",
    "print(\"Shape of cool_days_subset:\", cool_days_subset.shape)\n"
   ]
  }
 ],
 "metadata": {
  "kernelspec": {
   "display_name": "Python 3 (ipykernel)",
   "language": "python",
   "name": "python3"
  },
  "language_info": {
   "codemirror_mode": {
    "name": "ipython",
    "version": 3
   },
   "file_extension": ".py",
   "mimetype": "text/x-python",
   "name": "python",
   "nbconvert_exporter": "python",
   "pygments_lexer": "ipython3",
   "version": "3.11.7"
  }
 },
 "nbformat": 4,
 "nbformat_minor": 5
}
